{
 "cells": [
  {
   "cell_type": "markdown",
   "id": "e2f6c2df-d82a-417d-ab96-5fa16849eea2",
   "metadata": {
    "tags": []
   },
   "source": [
    "# Accessible Notebook\n",
    "\n",
    "An example notebook to demonstrate accessibility best practices for authoring notebooks.\n",
    "\n",
    "Important: this is a **work in progress.**\n",
    "\n",
    "This notebook is an opinionated example of how to create a Jupyter notebook in order to maximize its accessibility. The intended audience for this notebook is anyone who creates Jupyter notebooks. It is part template, part guidebook. It follows best practices while explaining those best pratices. One way to use this notebook is to copy it and then replace the headings, content, and code cells with your own. \n",
    "\n",
    "[Notebook data sources](https://github.com/jupyter/accessibility/tree/main/accessible-notebook)\n",
    "\n",
    "<details>\n",
    "    <summary>Table of Contents</summary>\n",
    "\n",
    "1. [Structure](#Structure)\n",
    "2. [Text](#Text)\n",
    "3. [Code](#Code)\n",
    "4. [Media](#Media)\n",
    "5. [Video](#Video)\n",
    "</details>\n",
    "\n",
    "\n",
    "<details>\n",
    "    <summary>About this notebook</summary>\n",
    "\n",
    "Author: Jupyter Accessibility\n",
    "\n",
    "First published: 9 June 2023\n",
    "\n",
    "Last edited: 9 June 2023\n",
    "</details>"
   ]
  },
  {
   "cell_type": "markdown",
   "id": "7aa06be0-d26e-4c5c-aa88-336ed5914a6d",
   "metadata": {
    "tags": []
   },
   "source": [
    "## Structure\n",
    "\n",
    "A well structured notebook helps a lot with accessibility. Every accessible notebook should have exactly one H1 heading, which is the title. Notice that this notebook has only one H1 heading, and it is the title `# Accessible Notebook`. Notice that the notebook is broken into several sections each of which has an H2 heading. For example, the H2 heading for this section in markdown is `## Structure`. If you break your document into sections, with appropriate headings, it can allow, for example, a blind researcher with a screen reader to more easily navigate your document by using a special keyboard shortcut that skips from one heading to the next.\n",
    "\n",
    "### The first cell\n",
    "\n",
    "Notice how the first cell of this notebook contains the following:\n",
    "\n",
    "- summary\n",
    "- table of contents\n",
    "- author\n",
    "- date (last updated and first published)\n",
    "- link to data sources"
   ]
  },
  {
   "cell_type": "markdown",
   "id": "727f6ec8-2204-4285-bdfa-15f0323a4de8",
   "metadata": {},
   "source": [
    "## Text\n",
    "\n",
    "### Links\n",
    "\n",
    "Links should be descriptive. A link should tell users where they will be taken if they open the link. \n",
    "\n",
    "**Do** this: Here's how we might link to the [JupyterLab docs](https://jupyterlab.readthedocs.io), for example. \n",
    "\n",
    "**Don't** put the URL in the text. Don't create a very generic link text, such as \"click here.\" This is very important, for example, for people who need to use a voice assistant (such as Dragon NaturallySpeaking) to click links. \n",
    "\n",
    "### Acronyms\n",
    "\n",
    "Acronyms are defined the first time they are used."
   ]
  },
  {
   "cell_type": "markdown",
   "id": "b4d4131f-277d-4e53-92e1-b3146aaf712e",
   "metadata": {},
   "source": [
    "## Code"
   ]
  },
  {
   "cell_type": "markdown",
   "id": "a1814c6f-9532-4fd0-92a6-b7db5b8e8d47",
   "metadata": {
    "tags": []
   },
   "source": [
    "## Media"
   ]
  },
  {
   "cell_type": "markdown",
   "id": "48dc144e-5fbe-4f43-ba76-9bc6ea07fe30",
   "metadata": {},
   "source": [
    "## Video"
   ]
  }
 ],
 "metadata": {
  "kernelspec": {
   "display_name": "Python 3 (ipykernel)",
   "language": "python",
   "name": "python3"
  },
  "language_info": {
   "codemirror_mode": {
    "name": "ipython",
    "version": 3
   },
   "file_extension": ".py",
   "mimetype": "text/x-python",
   "name": "python",
   "nbconvert_exporter": "python",
   "pygments_lexer": "ipython3",
   "version": "3.10.4"
  }
 },
 "nbformat": 4,
 "nbformat_minor": 5
}
